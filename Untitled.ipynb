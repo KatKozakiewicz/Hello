{
 "cells": [
  {
   "cell_type": "code",
   "execution_count": 11,
   "id": "31d92253",
   "metadata": {},
   "outputs": [],
   "source": [
    "import pandas as pd"
   ]
  },
  {
   "cell_type": "code",
   "execution_count": 16,
   "id": "35978fb7",
   "metadata": {},
   "outputs": [],
   "source": [
    "df= pd.read_csv(\"2 Year IBM Stock Data.csv\")"
   ]
  },
  {
   "cell_type": "code",
   "execution_count": 17,
   "id": "4bcf26c2",
   "metadata": {},
   "outputs": [
    {
     "data": {
      "text/plain": [
       "(216883, 6)"
      ]
     },
     "execution_count": 17,
     "metadata": {},
     "output_type": "execute_result"
    }
   ],
   "source": [
    "df.shape"
   ]
  },
  {
   "cell_type": "code",
   "execution_count": 20,
   "id": "b919d283",
   "metadata": {},
   "outputs": [
    {
     "data": {
      "text/plain": [
       "1301298"
      ]
     },
     "execution_count": 20,
     "metadata": {},
     "output_type": "execute_result"
    }
   ],
   "source": [
    "df.size"
   ]
  },
  {
   "cell_type": "code",
   "execution_count": 21,
   "id": "f74bc7e4",
   "metadata": {},
   "outputs": [
    {
     "data": {
      "text/plain": [
       "RangeIndex(start=0, stop=216883, step=1)"
      ]
     },
     "execution_count": 21,
     "metadata": {},
     "output_type": "execute_result"
    }
   ],
   "source": [
    "df.index"
   ]
  },
  {
   "cell_type": "code",
   "execution_count": 22,
   "id": "45db7a0e",
   "metadata": {},
   "outputs": [
    {
     "data": {
      "text/html": [
       "<div>\n",
       "<style scoped>\n",
       "    .dataframe tbody tr th:only-of-type {\n",
       "        vertical-align: middle;\n",
       "    }\n",
       "\n",
       "    .dataframe tbody tr th {\n",
       "        vertical-align: top;\n",
       "    }\n",
       "\n",
       "    .dataframe thead th {\n",
       "        text-align: right;\n",
       "    }\n",
       "</style>\n",
       "<table border=\"1\" class=\"dataframe\">\n",
       "  <thead>\n",
       "    <tr style=\"text-align: right;\">\n",
       "      <th></th>\n",
       "      <th>time</th>\n",
       "      <th>open</th>\n",
       "      <th>high</th>\n",
       "      <th>low</th>\n",
       "      <th>close</th>\n",
       "      <th>volume</th>\n",
       "    </tr>\n",
       "  </thead>\n",
       "  <tbody>\n",
       "    <tr>\n",
       "      <th>0</th>\n",
       "      <td>3/25/2022 19:19</td>\n",
       "      <td>131.300000</td>\n",
       "      <td>131.300000</td>\n",
       "      <td>131.300000</td>\n",
       "      <td>131.300000</td>\n",
       "      <td>718</td>\n",
       "    </tr>\n",
       "    <tr>\n",
       "      <th>1</th>\n",
       "      <td>3/25/2022 19:18</td>\n",
       "      <td>131.300000</td>\n",
       "      <td>131.300000</td>\n",
       "      <td>131.300000</td>\n",
       "      <td>131.300000</td>\n",
       "      <td>282</td>\n",
       "    </tr>\n",
       "    <tr>\n",
       "      <th>2</th>\n",
       "      <td>3/25/2022 17:50</td>\n",
       "      <td>131.300000</td>\n",
       "      <td>131.300000</td>\n",
       "      <td>131.300000</td>\n",
       "      <td>131.300000</td>\n",
       "      <td>100</td>\n",
       "    </tr>\n",
       "    <tr>\n",
       "      <th>3</th>\n",
       "      <td>3/25/2022 16:59</td>\n",
       "      <td>131.340000</td>\n",
       "      <td>131.350000</td>\n",
       "      <td>131.340000</td>\n",
       "      <td>131.350000</td>\n",
       "      <td>1427</td>\n",
       "    </tr>\n",
       "    <tr>\n",
       "      <th>4</th>\n",
       "      <td>3/25/2022 16:42</td>\n",
       "      <td>131.326000</td>\n",
       "      <td>131.350000</td>\n",
       "      <td>131.326000</td>\n",
       "      <td>131.350000</td>\n",
       "      <td>1326</td>\n",
       "    </tr>\n",
       "    <tr>\n",
       "      <th>...</th>\n",
       "      <td>...</td>\n",
       "      <td>...</td>\n",
       "      <td>...</td>\n",
       "      <td>...</td>\n",
       "      <td>...</td>\n",
       "      <td>...</td>\n",
       "    </tr>\n",
       "    <tr>\n",
       "      <th>216878</th>\n",
       "      <td>4/6/2020 7:27</td>\n",
       "      <td>95.385037</td>\n",
       "      <td>95.385037</td>\n",
       "      <td>95.385037</td>\n",
       "      <td>95.385037</td>\n",
       "      <td>854</td>\n",
       "    </tr>\n",
       "    <tr>\n",
       "      <th>216879</th>\n",
       "      <td>4/6/2020 7:25</td>\n",
       "      <td>94.530379</td>\n",
       "      <td>94.530379</td>\n",
       "      <td>94.530379</td>\n",
       "      <td>94.530379</td>\n",
       "      <td>450</td>\n",
       "    </tr>\n",
       "    <tr>\n",
       "      <th>216880</th>\n",
       "      <td>4/6/2020 7:08</td>\n",
       "      <td>94.703037</td>\n",
       "      <td>94.703037</td>\n",
       "      <td>94.703037</td>\n",
       "      <td>94.703037</td>\n",
       "      <td>436</td>\n",
       "    </tr>\n",
       "    <tr>\n",
       "      <th>216881</th>\n",
       "      <td>4/6/2020 7:02</td>\n",
       "      <td>95.479999</td>\n",
       "      <td>95.479999</td>\n",
       "      <td>95.479999</td>\n",
       "      <td>95.479999</td>\n",
       "      <td>575</td>\n",
       "    </tr>\n",
       "    <tr>\n",
       "      <th>216882</th>\n",
       "      <td>4/6/2020 7:01</td>\n",
       "      <td>94.979290</td>\n",
       "      <td>94.979290</td>\n",
       "      <td>94.979290</td>\n",
       "      <td>94.979290</td>\n",
       "      <td>452</td>\n",
       "    </tr>\n",
       "  </tbody>\n",
       "</table>\n",
       "<p>216883 rows × 6 columns</p>\n",
       "</div>"
      ],
      "text/plain": [
       "                   time        open        high         low       close  \\\n",
       "0       3/25/2022 19:19  131.300000  131.300000  131.300000  131.300000   \n",
       "1       3/25/2022 19:18  131.300000  131.300000  131.300000  131.300000   \n",
       "2       3/25/2022 17:50  131.300000  131.300000  131.300000  131.300000   \n",
       "3       3/25/2022 16:59  131.340000  131.350000  131.340000  131.350000   \n",
       "4       3/25/2022 16:42  131.326000  131.350000  131.326000  131.350000   \n",
       "...                 ...         ...         ...         ...         ...   \n",
       "216878    4/6/2020 7:27   95.385037   95.385037   95.385037   95.385037   \n",
       "216879    4/6/2020 7:25   94.530379   94.530379   94.530379   94.530379   \n",
       "216880    4/6/2020 7:08   94.703037   94.703037   94.703037   94.703037   \n",
       "216881    4/6/2020 7:02   95.479999   95.479999   95.479999   95.479999   \n",
       "216882    4/6/2020 7:01   94.979290   94.979290   94.979290   94.979290   \n",
       "\n",
       "        volume  \n",
       "0          718  \n",
       "1          282  \n",
       "2          100  \n",
       "3         1427  \n",
       "4         1326  \n",
       "...        ...  \n",
       "216878     854  \n",
       "216879     450  \n",
       "216880     436  \n",
       "216881     575  \n",
       "216882     452  \n",
       "\n",
       "[216883 rows x 6 columns]"
      ]
     },
     "execution_count": 22,
     "metadata": {},
     "output_type": "execute_result"
    }
   ],
   "source": [
    "df"
   ]
  },
  {
   "cell_type": "code",
   "execution_count": null,
   "id": "d0d36384",
   "metadata": {},
   "outputs": [],
   "source": [
    "df."
   ]
  }
 ],
 "metadata": {
  "kernelspec": {
   "display_name": "Python 3",
   "language": "python",
   "name": "python3"
  },
  "language_info": {
   "codemirror_mode": {
    "name": "ipython",
    "version": 3
   },
   "file_extension": ".py",
   "mimetype": "text/x-python",
   "name": "python",
   "nbconvert_exporter": "python",
   "pygments_lexer": "ipython3",
   "version": "3.8.8"
  }
 },
 "nbformat": 4,
 "nbformat_minor": 5
}
